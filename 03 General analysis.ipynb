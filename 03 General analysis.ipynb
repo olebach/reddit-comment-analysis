{
 "cells": [
  {
   "cell_type": "markdown",
   "metadata": {},
   "source": [
    "# General information about the network"
   ]
  },
  {
   "cell_type": "markdown",
   "metadata": {},
   "source": [
    "#### 1. Documentation\n",
    "- <>\n",
    "\n",
    "#### 2. Examples\n",
    "- <>"
   ]
  },
  {
   "cell_type": "markdown",
   "metadata": {},
   "source": [
    "#### Libraries"
   ]
  },
  {
   "cell_type": "code",
   "execution_count": 1,
   "metadata": {},
   "outputs": [],
   "source": [
    "#database management\n",
    "import sqlite3\n",
    "import pandas as pd\n",
    "import numpy as np \n",
    "\n",
    "#data visualisation\n",
    "import seaborn as sns\n",
    "\n",
    "import matplotlib.pyplot as plt\n",
    "\n",
    "import powerlaw\n",
    "sns.set_style('whitegrid')"
   ]
  },
  {
   "cell_type": "markdown",
   "metadata": {},
   "source": [
    "## 1. Data preparation"
   ]
  },
  {
   "cell_type": "code",
   "execution_count": 2,
   "metadata": {},
   "outputs": [
    {
     "data": {
      "text/html": [
       "<div>\n",
       "<style scoped>\n",
       "    .dataframe tbody tr th:only-of-type {\n",
       "        vertical-align: middle;\n",
       "    }\n",
       "\n",
       "    .dataframe tbody tr th {\n",
       "        vertical-align: top;\n",
       "    }\n",
       "\n",
       "    .dataframe thead th {\n",
       "        text-align: right;\n",
       "    }\n",
       "</style>\n",
       "<table border=\"1\" class=\"dataframe\">\n",
       "  <thead>\n",
       "    <tr style=\"text-align: right;\">\n",
       "      <th></th>\n",
       "      <th>author</th>\n",
       "      <th>parent_author</th>\n",
       "    </tr>\n",
       "  </thead>\n",
       "  <tbody>\n",
       "    <tr>\n",
       "      <th>0</th>\n",
       "      <td>gkiltz</td>\n",
       "      <td>TehSoupNazi</td>\n",
       "    </tr>\n",
       "    <tr>\n",
       "      <th>1</th>\n",
       "      <td>thelordofcheese</td>\n",
       "      <td>zabimaru1000</td>\n",
       "    </tr>\n",
       "    <tr>\n",
       "      <th>2</th>\n",
       "      <td>IAmABearAMAA</td>\n",
       "      <td>GiantSquidd</td>\n",
       "    </tr>\n",
       "    <tr>\n",
       "      <th>3</th>\n",
       "      <td>acm2033</td>\n",
       "      <td>hobofats</td>\n",
       "    </tr>\n",
       "    <tr>\n",
       "      <th>4</th>\n",
       "      <td>[deleted]</td>\n",
       "      <td>kjay227</td>\n",
       "    </tr>\n",
       "    <tr>\n",
       "      <th>...</th>\n",
       "      <td>...</td>\n",
       "      <td>...</td>\n",
       "    </tr>\n",
       "    <tr>\n",
       "      <th>222059</th>\n",
       "      <td>cyress_avitus</td>\n",
       "      <td>Kishara</td>\n",
       "    </tr>\n",
       "    <tr>\n",
       "      <th>222060</th>\n",
       "      <td>Cum_Box_Hero</td>\n",
       "      <td>Kishara</td>\n",
       "    </tr>\n",
       "    <tr>\n",
       "      <th>222061</th>\n",
       "      <td>Obersts001</td>\n",
       "      <td>Kishara</td>\n",
       "    </tr>\n",
       "    <tr>\n",
       "      <th>222062</th>\n",
       "      <td>Kishara</td>\n",
       "      <td>Kishara</td>\n",
       "    </tr>\n",
       "    <tr>\n",
       "      <th>222063</th>\n",
       "      <td>Kishara</td>\n",
       "      <td>Kishara</td>\n",
       "    </tr>\n",
       "  </tbody>\n",
       "</table>\n",
       "<p>222064 rows × 2 columns</p>\n",
       "</div>"
      ],
      "text/plain": [
       "                 author parent_author\n",
       "0                gkiltz   TehSoupNazi\n",
       "1       thelordofcheese  zabimaru1000\n",
       "2          IAmABearAMAA   GiantSquidd\n",
       "3               acm2033      hobofats\n",
       "4             [deleted]       kjay227\n",
       "...                 ...           ...\n",
       "222059    cyress_avitus       Kishara\n",
       "222060     Cum_Box_Hero       Kishara\n",
       "222061       Obersts001       Kishara\n",
       "222062          Kishara       Kishara\n",
       "222063          Kishara       Kishara\n",
       "\n",
       "[222064 rows x 2 columns]"
      ]
     },
     "execution_count": 2,
     "metadata": {},
     "output_type": "execute_result"
    }
   ],
   "source": [
    "# 1. Extracting and preparing the dataset:\n",
    "conn = sqlite3.connect('Data/obama_election.db')\n",
    "# 2. Full dataset\n",
    "df_obama = pd.read_sql('''SELECT author, parent_author\n",
    "                            FROM Reddit\n",
    "                            where month = 10''', conn) \n",
    "df_obama"
   ]
  },
  {
   "cell_type": "code",
   "execution_count": 3,
   "metadata": {},
   "outputs": [
    {
     "data": {
      "text/html": [
       "<div>\n",
       "<style scoped>\n",
       "    .dataframe tbody tr th:only-of-type {\n",
       "        vertical-align: middle;\n",
       "    }\n",
       "\n",
       "    .dataframe tbody tr th {\n",
       "        vertical-align: top;\n",
       "    }\n",
       "\n",
       "    .dataframe thead th {\n",
       "        text-align: right;\n",
       "    }\n",
       "</style>\n",
       "<table border=\"1\" class=\"dataframe\">\n",
       "  <thead>\n",
       "    <tr style=\"text-align: right;\">\n",
       "      <th></th>\n",
       "      <th>author</th>\n",
       "      <th>parent_author</th>\n",
       "    </tr>\n",
       "  </thead>\n",
       "  <tbody>\n",
       "    <tr>\n",
       "      <th>0</th>\n",
       "      <td>JuicyJuuce</td>\n",
       "      <td>Dyna82</td>\n",
       "    </tr>\n",
       "    <tr>\n",
       "      <th>1</th>\n",
       "      <td>Dyna82</td>\n",
       "      <td>JuicyJuuce</td>\n",
       "    </tr>\n",
       "    <tr>\n",
       "      <th>2</th>\n",
       "      <td>TheLightningbolt</td>\n",
       "      <td>mindbleach</td>\n",
       "    </tr>\n",
       "    <tr>\n",
       "      <th>3</th>\n",
       "      <td>mindbleach</td>\n",
       "      <td>TheLightningbolt</td>\n",
       "    </tr>\n",
       "    <tr>\n",
       "      <th>4</th>\n",
       "      <td>TheLightningbolt</td>\n",
       "      <td>flippydude</td>\n",
       "    </tr>\n",
       "    <tr>\n",
       "      <th>...</th>\n",
       "      <td>...</td>\n",
       "      <td>...</td>\n",
       "    </tr>\n",
       "    <tr>\n",
       "      <th>429129</th>\n",
       "      <td>formeraide</td>\n",
       "      <td>myellabella</td>\n",
       "    </tr>\n",
       "    <tr>\n",
       "      <th>429130</th>\n",
       "      <td>rafikiknowsdeway1</td>\n",
       "      <td>myellabella</td>\n",
       "    </tr>\n",
       "    <tr>\n",
       "      <th>429131</th>\n",
       "      <td>satosaison</td>\n",
       "      <td>myellabella</td>\n",
       "    </tr>\n",
       "    <tr>\n",
       "      <th>429132</th>\n",
       "      <td>AutoModerator</td>\n",
       "      <td>myellabella</td>\n",
       "    </tr>\n",
       "    <tr>\n",
       "      <th>429133</th>\n",
       "      <td>myellabella</td>\n",
       "      <td>myellabella</td>\n",
       "    </tr>\n",
       "  </tbody>\n",
       "</table>\n",
       "<p>429134 rows × 2 columns</p>\n",
       "</div>"
      ],
      "text/plain": [
       "                   author     parent_author\n",
       "0              JuicyJuuce            Dyna82\n",
       "1                  Dyna82        JuicyJuuce\n",
       "2        TheLightningbolt        mindbleach\n",
       "3              mindbleach  TheLightningbolt\n",
       "4        TheLightningbolt        flippydude\n",
       "...                   ...               ...\n",
       "429129         formeraide       myellabella\n",
       "429130  rafikiknowsdeway1       myellabella\n",
       "429131         satosaison       myellabella\n",
       "429132      AutoModerator       myellabella\n",
       "429133        myellabella       myellabella\n",
       "\n",
       "[429134 rows x 2 columns]"
      ]
     },
     "execution_count": 3,
     "metadata": {},
     "output_type": "execute_result"
    }
   ],
   "source": [
    "# 1. Extracting and preparing the dataset:\n",
    "conn = sqlite3.connect('Data/trump_election.db')\n",
    "# 2. Full dataset\n",
    "df_trump = pd.read_sql('''SELECT author, parent_author\n",
    "                            FROM Reddit\n",
    "                            where month = 10''', conn) \n",
    "df_trump"
   ]
  },
  {
   "cell_type": "markdown",
   "metadata": {},
   "source": [
    "## General analysis"
   ]
  },
  {
   "cell_type": "markdown",
   "metadata": {},
   "source": [
    "#### Number of posts"
   ]
  },
  {
   "cell_type": "code",
   "execution_count": 9,
   "metadata": {},
   "outputs": [
    {
     "name": "stdout",
     "output_type": "stream",
     "text": [
      "110\n",
      "110\n"
     ]
    }
   ],
   "source": [
    "print(len(df_obama.loc[df_obama[\"type\"] == 'Post']))\n",
    "print(len(df_trump.loc[df_trump[\"type\"] == 'Post']))"
   ]
  },
  {
   "cell_type": "markdown",
   "metadata": {},
   "source": [
    "#### Number of comments"
   ]
  },
  {
   "cell_type": "code",
   "execution_count": 10,
   "metadata": {},
   "outputs": [
    {
     "name": "stdout",
     "output_type": "stream",
     "text": [
      "221954\n",
      "429024\n"
     ]
    }
   ],
   "source": [
    "print(len(df_obama.loc[df_obama[\"type\"] == 'Comments']))\n",
    "print(len(df_trump.loc[df_trump[\"type\"] == 'Comments']))"
   ]
  },
  {
   "cell_type": "markdown",
   "metadata": {},
   "source": [
    "#### Number of users"
   ]
  },
  {
   "cell_type": "code",
   "execution_count": 11,
   "metadata": {},
   "outputs": [
    {
     "name": "stdout",
     "output_type": "stream",
     "text": [
      "50409\n",
      "75251\n"
     ]
    }
   ],
   "source": [
    "print(len(df_obama[\"author\"].unique()))\n",
    "print(len(df_trump[\"author\"].unique()))"
   ]
  },
  {
   "cell_type": "markdown",
   "metadata": {},
   "source": [
    "#### Posts/comments with deleted authors"
   ]
  },
  {
   "cell_type": "code",
   "execution_count": 14,
   "metadata": {},
   "outputs": [
    {
     "name": "stdout",
     "output_type": "stream",
     "text": [
      "37280\n",
      "42021\n"
     ]
    }
   ],
   "source": [
    "print(len(df_obama.loc[df_obama[\"author\"] == '[deleted]']))\n",
    "print(len(df_trump.loc[df_trump[\"author\"] == '[deleted]']))"
   ]
  },
  {
   "cell_type": "markdown",
   "metadata": {},
   "source": [
    "#### Average number of comments per post"
   ]
  },
  {
   "cell_type": "code",
   "execution_count": 47,
   "metadata": {},
   "outputs": [
    {
     "name": "stdout",
     "output_type": "stream",
     "text": [
      "1855.2272727272727\n",
      "3573.9363636363637\n"
     ]
    }
   ],
   "source": [
    "print( statistics.mean(list(df_obama[[\"post_id\",\"num_comments\"]].groupby(\"post_id\").agg(['mean'])[\"num_comments\"][\"mean\"])) )\n",
    "print( statistics.mean(list(df_trump[[\"post_id\",\"num_comments\"]].groupby(\"post_id\").agg(['mean'])[\"num_comments\"][\"mean\"])) )"
   ]
  },
  {
   "cell_type": "markdown",
   "metadata": {},
   "source": [
    "## 2. Network analysis"
   ]
  },
  {
   "cell_type": "markdown",
   "metadata": {},
   "source": [
    "#### 2.1 Connectivity of nodes"
   ]
  },
  {
   "cell_type": "code",
   "execution_count": 4,
   "metadata": {},
   "outputs": [],
   "source": [
    "def conn_plot(df_in_1, df_in_2):\n",
    "    \"\"\"\n",
    "    The function visualises user roles.\n",
    "\n",
    "    Parameters:\n",
    "        df_in_1: dataframe containing values for group 1\n",
    "        df_in_2: dataframe containing values for group 1\n",
    "        \n",
    "    \"\"\"\n",
    "    # data 1\n",
    "    df1 = df_in_1[~df_in_1['author'].isin(['[deleted]','None'])]\n",
    "    df_conn1=df1.groupby('author', as_index=False).size().to_frame(name = 'n_conn').reset_index().sort_values(by=['n_conn'], ascending=False)\n",
    "    df_conn1[\"n_conn\"] = df_conn1[\"n_conn\"].round()\n",
    "    bins1 = df_conn1['n_conn'].values[0].astype(int)\n",
    "    \n",
    "    # data 2\n",
    "    df2=df_in_2[~df_in_2['author'].isin(['[deleted]','None'])]\n",
    "    df_conn2=df2.groupby('author', as_index=False).size().to_frame(name = 'n_conn').reset_index().sort_values(by=['n_conn'], ascending=False)\n",
    "    df_conn2[\"n_conn\"] = df_conn2[\"n_conn\"].round()\n",
    "    bins2 = df_conn2['n_conn'].values[0].astype(int)\n",
    "    \n",
    "    # subplot grid\n",
    "    fig, axes = plt.subplots(1, 2, figsize=(15, 5), gridspec_kw={'wspace': .2})\n",
    "    \n",
    "    # plot histogram 1   \n",
    "    sns.distplot(df_conn1[\"n_conn\"], bins=bins1, ax=axes[0])\n",
    "    axes[0].set_xlim(1, 15)     \n",
    "    axes[0].set_ylim(0, 0.55) \n",
    "    axes[0].set_title('Distribution of connections in 2012',fontsize=15)\n",
    "    axes[0].set_xlabel(\"Average number of connections per user\",fontsize=10)\n",
    "    axes[0].set_ylabel(\"Percentage of users\",fontsize=10)\n",
    "    \n",
    "    # plot histogram 2    \n",
    "    sns.distplot(df_conn2[\"n_conn\"], bins=bins2, ax=axes[1])\n",
    "    axes[1].set_xlim(1, 15) \n",
    "    axes[1].set_ylim(0, 0.55) \n",
    "    axes[1].set_title('Distribution of connections in 2016',fontsize=15)\n",
    "    axes[1].set_xlabel(\"Average number of connections per user\",fontsize=10)\n",
    "    axes[1].set_ylabel(\"Percentage of users\",fontsize=10)\n",
    "    \n",
    "    print(df_conn1['n_conn'].head())\n",
    "    print(df_conn2['n_conn'].head())"
   ]
  },
  {
   "cell_type": "code",
   "execution_count": 5,
   "metadata": {},
   "outputs": [
    {
     "name": "stdout",
     "output_type": "stream",
     "text": [
      "38669    419\n",
      "18352    311\n",
      "1100     288\n",
      "30330    245\n",
      "20884    217\n",
      "Name: n_conn, dtype: int64\n",
      "39762    579\n",
      "55692    578\n",
      "48678    538\n",
      "47986    467\n",
      "74405    370\n",
      "Name: n_conn, dtype: int64\n"
     ]
    },
    {
     "data": {
      "image/png": "[encoded data removed]",
      "text/plain": [
       "<Figure size 1080x360 with 2 Axes>"
      ]
     },
     "metadata": {},
     "output_type": "display_data"
    }
   ],
   "source": [
    "conn_plot(df_obama, df_trump)\n",
    "plt.savefig(r'Visualisations/3_1_connections.png', bbox_inches='tight')\n",
    "plt.show()"
   ]
  },
  {
   "cell_type": "markdown",
   "metadata": {},
   "source": [
    "#### 2.2 Powerlaw function"
   ]
  },
  {
   "cell_type": "code",
   "execution_count": 6,
   "metadata": {},
   "outputs": [],
   "source": [
    "def power_plot(df_in_1, df_in_2):\n",
    "    \"\"\"\n",
    "    The function visualises user roles.\n",
    "\n",
    "    Parameters:\n",
    "        df_in_1: dataframe containing values for group 1\n",
    "        df_in_2: dataframe containing values for group 1\n",
    "        \n",
    "    \"\"\"\n",
    "     # data 1\n",
    "    df1= df_in_1[~df_in_1['author'].isin(['[deleted]','None'])]\n",
    "    df_conn1=df1.groupby('author', as_index=False).size().to_frame(name = 'n_conn').reset_index().sort_values(by=['n_conn'], ascending=False)\n",
    "    df_conn1[\"n_conn\"] = df_conn1[\"n_conn\"].round()\n",
    "    bins1 = df_conn1['n_conn'].values[0].astype(int)\n",
    "    \n",
    "    # data 2\n",
    "    df2=df_in_2[~df_in_2['author'].isin(['[deleted]','None'])]\n",
    "    df_conn2=df2.groupby('author', as_index=False).size().to_frame(name = 'n_conn').reset_index().sort_values(by=['n_conn'], ascending=False)\n",
    "    df_conn2[\"n_conn\"] = df_conn2[\"n_conn\"].round()\n",
    "    bins2 = df_conn2['n_conn'].values[0].astype(int)\n",
    "        \n",
    "    # subplot grid\n",
    "    fig, axes = plt.subplots(1, 2, figsize=(15, 5), gridspec_kw={'wspace': .2})\n",
    "    \n",
    "    # plot histogram    \n",
    "    fit1 = powerlaw.Fit(df_conn1[\"n_conn\"] ,discrete=True)\n",
    "    fit1.power_law.plot_pdf( color= 'b',linestyle='--', label='fit ccdf', ax=axes[0])\n",
    "    fit1.plot_pdf( color= 'b', ax=axes[0])\n",
    "    axes[0].set_title('Powerlaw function',fontsize=15)\n",
    "    axes[0].set_xlabel(\"Node degree\",fontsize=10)\n",
    "    axes[0].set_ylabel(\"Percentage of nodes\",fontsize=10)\n",
    "    \n",
    "    # plot powerlaw\n",
    "    fit2 = powerlaw.Fit(df_conn2[\"n_conn\"] ,discrete=True)\n",
    "    fit2.power_law.plot_pdf( color= 'b',linestyle='--',label='fit ccdf', ax=axes[1])\n",
    "    fit2.plot_pdf( color= 'b', ax=axes[1])\n",
    "    axes[1].set_title('Powerlaw function',fontsize=15)\n",
    "    axes[1].set_xlabel(\"Node degree\",fontsize=10)\n",
    "    axes[1].set_ylabel(\"Percentage of nodes\",fontsize=10)\n",
    "    \n",
    "    print('alpha= ',fit1.power_law.alpha,'  sigma= ',fit1.power_law.sigma)    \n",
    "    print('alpha= ',fit2.power_law.alpha,'  sigma= ',fit2.power_law.sigma)\n",
    "    plt.tight_layout()\n",
    "    "
   ]
  },
  {
   "cell_type": "code",
   "execution_count": 7,
   "metadata": {},
   "outputs": [
    {
     "name": "stderr",
     "output_type": "stream",
     "text": [
      "Calculating best minimal value for power law fit\n",
      "C:\\ProgramData\\Anaconda3\\lib\\site-packages\\powerlaw.py:700: RuntimeWarning: invalid value encountered in true_divide\n",
      "  (Theoretical_CDF * (1 - Theoretical_CDF))\n",
      "C:\\ProgramData\\Anaconda3\\lib\\site-packages\\powerlaw.py:700: RuntimeWarning: divide by zero encountered in true_divide\n",
      "  (Theoretical_CDF * (1 - Theoretical_CDF))\n",
      "Calculating best minimal value for power law fit\n",
      "C:\\ProgramData\\Anaconda3\\lib\\site-packages\\powerlaw.py:700: RuntimeWarning: invalid value encountered in true_divide\n",
      "  (Theoretical_CDF * (1 - Theoretical_CDF))\n",
      "C:\\ProgramData\\Anaconda3\\lib\\site-packages\\powerlaw.py:700: RuntimeWarning: divide by zero encountered in true_divide\n",
      "  (Theoretical_CDF * (1 - Theoretical_CDF))\n",
      "C:\\ProgramData\\Anaconda3\\lib\\site-packages\\ipykernel_launcher.py:36: UserWarning: This figure includes Axes that are not compatible with tight_layout, so results might be incorrect.\n"
     ]
    },
    {
     "name": "stdout",
     "output_type": "stream",
     "text": [
      "alpha=  3.522737595507032   sigma=  0.15987199919826173\n",
      "alpha=  3.480693208869492   sigma=  0.11442584513637118\n"
     ]
    },
    {
     "data": {
      "image/png": "[encoded data removed]",
      "text/plain": [
       "<Figure size 1080x360 with 2 Axes>"
      ]
     },
     "metadata": {},
     "output_type": "display_data"
    }
   ],
   "source": [
    "power_plot(df_obama, df_trump)\n",
    "plt.savefig(r'Visualisations/3_2_power_law.png', bbox_inches='tight')\n",
    "plt.show()"
   ]
  },
  {
   "cell_type": "markdown",
   "metadata": {},
   "source": [
    "## 3. User roles (donor/recipient)"
   ]
  },
  {
   "cell_type": "code",
   "execution_count": 8,
   "metadata": {},
   "outputs": [],
   "source": [
    "def author_plot(df_in_1, df_in_2):\n",
    "    \"\"\"\n",
    "    The function visualises user roles.\n",
    "\n",
    "    Parameters:\n",
    "        df_in_1: dataframe containing values for group 1\n",
    "        df_in_2: dataframe containing values for group 1\n",
    "        \n",
    "    \"\"\"\n",
    "        \n",
    "    # =============================================================================================\n",
    "    # data 1\n",
    "    # donor\n",
    "    x1=df_in_1['parent_author'].value_counts().to_frame().reset_index()\n",
    "    # recipient\n",
    "    y1=df_in_1['author'].value_counts().to_frame().reset_index()\n",
    "    \n",
    "    df_1=pd.merge(x1, y1, on=\"index\")\n",
    "    df_1[\"user_activity\"]=(df_1[\"parent_author\"]/(df_1[\"author\"]+df_1[\"parent_author\"])).round(2)\n",
    "    df_1=df_1[~df_1['index'].isin(['[deleted]','None'])]\\\n",
    "            .sort_values(by=['user_activity'], ascending=False)\\\n",
    "            .rename(columns={\"author\": \"recipient\", \"parent_author\": \"donor\", \"index\": \"author\"})\n",
    "    print(len(df_1))\n",
    "    \n",
    "    # =============================================================================================\n",
    "    # data 2\n",
    "    # donor\n",
    "    x2=df_in_2['parent_author'].value_counts().to_frame().reset_index()\n",
    "    # recipient\n",
    "    y2=df_in_2['author'].value_counts().to_frame().reset_index()\n",
    "    \n",
    "    df_2=pd.merge(x2, y2, on=\"index\")\n",
    "    df_2[\"user_activity\"]=(df_2[\"parent_author\"]/(df_2[\"author\"]+df_2[\"parent_author\"])).round(2)\n",
    "    df_2=df_2[~df_2['index'].isin(['[deleted]','None'])]\\\n",
    "            .sort_values(by=['user_activity'], ascending=False)\\\n",
    "            .rename(columns={\"author\": \"recipient\", \"parent_author\": \"donor\", \"index\": \"author\"})\n",
    "    print(len(df_2))\n",
    "    \n",
    "    # =============================================================================================\n",
    "    # subplot grid\n",
    "    fig, axes = plt.subplots(1, 2, figsize=(15, 5), gridspec_kw={'wspace': .15})\n",
    "    \n",
    "    # =============================================================================================\n",
    "    # plot 1    \n",
    "    axes[0].hist(df_1[\"user_activity\"], bins=20, facecolor='blue', alpha=0.5)\n",
    "    #sns.distplot(df_1[\"user_activity\"], bins=20, ax=axes[0])\n",
    "    #axes[0].set_xlim(0, 1) \n",
    "    axes[0].set_ylim(0, 13000) \n",
    "    axes[0].set_title('Donor/recipient relation in 2012',fontsize=15)\n",
    "    axes[0].set_xlabel(\"User score\",fontsize=10)\n",
    "    #axes[0].set_ylabel(\"Percentage of comments\",fontsize=10)\n",
    "    \n",
    "    # =============================================================================================\n",
    "    # plot 2\n",
    "    axes[1].hist(df_2[\"user_activity\"], bins=20, facecolor='blue', alpha=0.5)\n",
    "    #sns.distplot(df_2[\"user_activity\"], bins=20, ax=axes[1])\n",
    "    #axes[1].set_xlim(0, 1) \n",
    "    axes[1].set_ylim(0, 13000) \n",
    "    axes[1].set_title('Donor/recipient relation in 2016',fontsize=15)\n",
    "    axes[1].set_xlabel(\"User score\",fontsize=10)\n",
    "    #axes[1].set_ylabel(\"Percentage of comments\",fontsize=10)\n"
   ]
  },
  {
   "cell_type": "code",
   "execution_count": 9,
   "metadata": {},
   "outputs": [
    {
     "name": "stdout",
     "output_type": "stream",
     "text": [
      "25488\n",
      "44687\n"
     ]
    },
    {
     "data": {
      "image/png": "[encoded data removed]",
      "text/plain": [
       "<Figure size 1080x360 with 2 Axes>"
      ]
     },
     "metadata": {},
     "output_type": "display_data"
    }
   ],
   "source": [
    "author_plot(df_obama,df_trump)\n",
    "plt.savefig(r'Visualisations/3_3_user_roles.png', bbox_inches='tight')\n",
    "plt.show()"
   ]
  },
  {
   "cell_type": "code",
   "execution_count": null,
   "metadata": {},
   "outputs": [],
   "source": []
  }
 ],
 "metadata": {
  "kernelspec": {
   "display_name": "Python 3",
   "language": "python",
   "name": "python3"
  },
  "language_info": {
   "codemirror_mode": {
    "name": "ipython",
    "version": 3
   },
   "file_extension": ".py",
   "mimetype": "text/x-python",
   "name": "python",
   "nbconvert_exporter": "python",
   "pygments_lexer": "ipython3",
   "version": "3.7.6"
  }
 },
 "nbformat": 4,
 "nbformat_minor": 4
}
